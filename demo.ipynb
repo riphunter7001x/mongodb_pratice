{
 "cells": [
  {
   "cell_type": "code",
   "execution_count": 18,
   "metadata": {},
   "outputs": [],
   "source": [
    "import pymongo"
   ]
  },
  {
   "cell_type": "code",
   "execution_count": 19,
   "metadata": {},
   "outputs": [],
   "source": [
    "# some concepts of mongodb\n",
    "# 1 database :  it is physical container for collection- \n",
    "# 2 collection : group of documents \n",
    "# 3 document : actual data  |  jsonn vioew of data \n"
   ]
  },
  {
   "cell_type": "code",
   "execution_count": 20,
   "metadata": {},
   "outputs": [],
   "source": [
    "# lets make client \n",
    "client = pymongo.MongoClient(\"mongodb://localhost:27017/\")"
   ]
  },
  {
   "cell_type": "code",
   "execution_count": 21,
   "metadata": {},
   "outputs": [],
   "source": [
    "# lets create database\n",
    "database = client[\"demo\"]"
   ]
  },
  {
   "cell_type": "code",
   "execution_count": 22,
   "metadata": {},
   "outputs": [],
   "source": [
    "# lets create collection\n",
    "collection = database[\"people\"]"
   ]
  },
  {
   "cell_type": "code",
   "execution_count": 23,
   "metadata": {},
   "outputs": [],
   "source": [
    "data = {\"name\" : \"akshu\",\n",
    "        \"last_name\" : \"varpe\",\n",
    "        \"m_year\" : \"2025\",\n",
    "        \"h_name\" : \"aditya varpe\"\n",
    " \n",
    "}"
   ]
  },
  {
   "cell_type": "code",
   "execution_count": 24,
   "metadata": {},
   "outputs": [],
   "source": [
    "# to insert data\n",
    "rec = collection.insert_one(data)"
   ]
  },
  {
   "cell_type": "code",
   "execution_count": 25,
   "metadata": {},
   "outputs": [],
   "source": [
    "all_rec = collection.find()"
   ]
  },
  {
   "cell_type": "code",
   "execution_count": 26,
   "metadata": {},
   "outputs": [
    {
     "name": "stdout",
     "output_type": "stream",
     "text": [
      "0: {'_id': ObjectId('64e259d91362581303bbd6ad'), 'name': 'akshu', 'last_name': 'varpe', 'm_year': '2025', 'h_name': 'aditya varpe'}\n"
     ]
    }
   ],
   "source": [
    "for idx , record in enumerate(all_rec):\n",
    "    print(f\"{idx}: {record}\")"
   ]
  },
  {
   "cell_type": "code",
   "execution_count": 27,
   "metadata": {},
   "outputs": [
    {
     "ename": "NameError",
     "evalue": "name 'myquery' is not defined",
     "output_type": "error",
     "traceback": [
      "\u001b[1;31m---------------------------------------------------------------------------\u001b[0m",
      "\u001b[1;31mNameError\u001b[0m                                 Traceback (most recent call last)",
      "\u001b[1;32mc:\\mdb\\demo.ipynb Cell 10\u001b[0m in \u001b[0;36m<cell line: 1>\u001b[1;34m()\u001b[0m\n\u001b[1;32m----> <a href='vscode-notebook-cell:/c%3A/mdb/demo.ipynb#X14sZmlsZQ%3D%3D?line=0'>1</a>\u001b[0m result \u001b[39m=\u001b[39m collection\u001b[39m.\u001b[39mfind(myquery)\n",
      "\u001b[1;31mNameError\u001b[0m: name 'myquery' is not defined"
     ]
    }
   ],
   "source": [
    "result = collection.find(myquery)"
   ]
  },
  {
   "cell_type": "code",
   "execution_count": null,
   "metadata": {},
   "outputs": [],
   "source": [
    "# oprations we can performs in mongodb\n",
    "# createdb\n",
    "# dropdb \n",
    "# create collection \n",
    "# drop collection\n",
    "# insert document \n",
    "# query opration (find)\n",
    "# update document \n",
    "# delete document \n",
    "# sorting\n",
    "# filter\n",
    "# limiting \n",
    "# projection (where conditionn)\n",
    "# indexing "
   ]
  },
  {
   "cell_type": "code",
   "execution_count": null,
   "metadata": {},
   "outputs": [],
   "source": []
  }
 ],
 "metadata": {
  "kernelspec": {
   "display_name": "Python 3",
   "language": "python",
   "name": "python3"
  },
  "language_info": {
   "codemirror_mode": {
    "name": "ipython",
    "version": 3
   },
   "file_extension": ".py",
   "mimetype": "text/x-python",
   "name": "python",
   "nbconvert_exporter": "python",
   "pygments_lexer": "ipython3",
   "version": "3.10.0"
  },
  "orig_nbformat": 4
 },
 "nbformat": 4,
 "nbformat_minor": 2
}
