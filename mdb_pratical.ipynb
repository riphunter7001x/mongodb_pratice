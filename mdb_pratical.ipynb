{
 "cells": [
  {
   "cell_type": "code",
   "execution_count": 177,
   "metadata": {},
   "outputs": [],
   "source": [
    "import pymongo"
   ]
  },
  {
   "cell_type": "code",
   "execution_count": 178,
   "metadata": {},
   "outputs": [],
   "source": [
    "#  lets connnect mongodb\n",
    "dbconn = pymongo.MongoClient(\"mongodb://localhost:27017/\")"
   ]
  },
  {
   "cell_type": "code",
   "execution_count": 179,
   "metadata": {},
   "outputs": [],
   "source": [
    "dbname = \"pratical\""
   ]
  },
  {
   "cell_type": "code",
   "execution_count": 180,
   "metadata": {},
   "outputs": [],
   "source": [
    "# lest crete new db\n",
    "db = dbconn[dbname]"
   ]
  },
  {
   "cell_type": "code",
   "execution_count": 181,
   "metadata": {},
   "outputs": [
    {
     "data": {
      "text/plain": [
       "['admin', 'config', 'demo', 'local', 'pratical']"
      ]
     },
     "execution_count": 181,
     "metadata": {},
     "output_type": "execute_result"
    }
   ],
   "source": [
    "# to get list of database \n",
    "dbconn.list_database_names()"
   ]
  },
  {
   "cell_type": "code",
   "execution_count": 182,
   "metadata": {},
   "outputs": [],
   "source": [
    "# lets make collectio name \n",
    "collection_name = \"demo_collection\""
   ]
  },
  {
   "cell_type": "code",
   "execution_count": 183,
   "metadata": {},
   "outputs": [],
   "source": [
    "collection = db[collection_name]"
   ]
  },
  {
   "cell_type": "code",
   "execution_count": 184,
   "metadata": {},
   "outputs": [],
   "source": [
    "data = {\"Serial No\" : \"007\",\n",
    "\"GRE score\" : \"337\",\n",
    "\"TOEFL Score\": \"118\",\n",
    "\"University Rating\" : \"4\",\n",
    "\"SOP\": \"4.5\",\n",
    "\"CGPA\": \"9.65\",\n",
    "\"Research\": \"1\",\n",
    "\"Chance of Admit\":\"9998\"\n",
    "}"
   ]
  },
  {
   "cell_type": "code",
   "execution_count": 185,
   "metadata": {},
   "outputs": [],
   "source": [
    "col = collection.insert_one(data)"
   ]
  },
  {
   "cell_type": "code",
   "execution_count": 186,
   "metadata": {},
   "outputs": [
    {
     "data": {
      "text/plain": [
       "ObjectId('64e2575f85459efe75b310f2')"
      ]
     },
     "execution_count": 186,
     "metadata": {},
     "output_type": "execute_result"
    }
   ],
   "source": [
    "col.inserted_id"
   ]
  },
  {
   "cell_type": "code",
   "execution_count": 187,
   "metadata": {},
   "outputs": [],
   "source": [
    "rec = collection.find()"
   ]
  },
  {
   "cell_type": "code",
   "execution_count": 188,
   "metadata": {},
   "outputs": [
    {
     "data": {
      "text/plain": [
       "<pymongo.cursor.Cursor at 0x1f7ebc12440>"
      ]
     },
     "execution_count": 188,
     "metadata": {},
     "output_type": "execute_result"
    }
   ],
   "source": [
    "   rec"
   ]
  },
  {
   "cell_type": "code",
   "execution_count": 189,
   "metadata": {},
   "outputs": [
    {
     "name": "stdout",
     "output_type": "stream",
     "text": [
      "{'_id': ObjectId('64e1fa8585459efe75b310e5'), 'Serial No': '005', 'GRE score': '338', 'TOEFL Score': '150', 'University Rating': '8', 'SOP': '4.8', 'CGPA': '8.65', 'Research': '0', 'Chance of Admit': '90'}\n",
      "{'_id': ObjectId('64e1fa8585459efe75b310e6'), 'Serial No': '009', 'GRE score': '454', 'TOEFL Score': '150', 'University Rating': '14', 'SOP': '4.8', 'CGPA': '9.01', 'Research': '3', 'Chance of Admit': '86.69'}\n",
      "{'_id': ObjectId('64e2006185459efe75b310e7'), 'Serial No': '005', 'GRE score': '338', 'TOEFL Score': '150', 'University Rating': '8', 'SOP': '4.8', 'CGPA': '8.65', 'Research': '0', 'Chance of Admit': '90'}\n",
      "{'_id': ObjectId('64e2006185459efe75b310e8'), 'Serial No': '009', 'GRE score': '454', 'TOEFL Score': '150', 'University Rating': '14', 'SOP': '4.8', 'CGPA': '9.01', 'Research': '3', 'Chance of Admit': '86.69'}\n",
      "{'_id': ObjectId('64e2021d85459efe75b310eb'), 'Serial No': '005', 'GRE score': '338', 'TOEFL Score': '150', 'University Rating': '8', 'SOP': '4.8', 'CGPA': '8.65', 'Research': '0', 'Chance of Admit': '90'}\n",
      "{'_id': ObjectId('64e2021d85459efe75b310ec'), 'Serial No': '009', 'GRE score': '454', 'TOEFL Score': '150', 'University Rating': '14', 'SOP': '4.8', 'CGPA': '9.01', 'Research': '3', 'Chance of Admit': '86.69'}\n",
      "{'_id': ObjectId('64e2211685459efe75b310ef'), 'Serial No': '005', 'GRE score': '338', 'TOEFL Score': '150', 'University Rating': '8', 'SOP': '4.8', 'CGPA': '8.65', 'Research': '0', 'Chance of Admit': '90'}\n",
      "{'_id': ObjectId('64e2211685459efe75b310f0'), 'Serial No': '009', 'GRE score': '454', 'TOEFL Score': '150', 'University Rating': '14', 'SOP': '4.8', 'CGPA': '9.01', 'Research': '3', 'Chance of Admit': '86.69'}\n",
      "{'_id': ObjectId('64e2575f85459efe75b310f2'), 'Serial No': '007', 'GRE score': '337', 'TOEFL Score': '118', 'University Rating': '4', 'SOP': '4.5', 'CGPA': '9.65', 'Research': '1', 'Chance of Admit': '9998'}\n"
     ]
    }
   ],
   "source": [
    "for i in rec:\n",
    "    print(i)"
   ]
  },
  {
   "cell_type": "code",
   "execution_count": 190,
   "metadata": {},
   "outputs": [],
   "source": [
    "# now we have to insert many record at once0\n",
    "# for that we have to make one list \n",
    "\n",
    "data = [\n",
    "   {\"Serial No\" : \"005\",\n",
    "\"GRE score\" : \"338\",\n",
    "\"TOEFL Score\": \"108\",\n",
    "\"University Rating\" : \"8\",\n",
    "\"SOP\": \"4.8\",\n",
    "\"CGPA\": \"8.65\",\n",
    "\"Research\": \"0\",\n",
    "\"Chance of Admit\":\"90\"\n",
    "},\n",
    "{\"Serial No\" : \"009\",\n",
    "\"GRE score\" : \"454\",\n",
    "\"TOEFL Score\": \"147\",\n",
    "\"University Rating\" : \"14\",\n",
    "\"SOP\": \"4.8\",\n",
    "\"CGPA\": \"9.01\",\n",
    "\"Research\": \"3\",\n",
    "\"Chance of Admit\":\"86.69\"\n",
    "} \n",
    "    \n",
    "]"
   ]
  },
  {
   "cell_type": "code",
   "execution_count": 191,
   "metadata": {},
   "outputs": [
    {
     "data": {
      "text/plain": [
       "[{'Serial No': '005',\n",
       "  'GRE score': '338',\n",
       "  'TOEFL Score': '108',\n",
       "  'University Rating': '8',\n",
       "  'SOP': '4.8',\n",
       "  'CGPA': '8.65',\n",
       "  'Research': '0',\n",
       "  'Chance of Admit': '90'},\n",
       " {'Serial No': '009',\n",
       "  'GRE score': '454',\n",
       "  'TOEFL Score': '147',\n",
       "  'University Rating': '14',\n",
       "  'SOP': '4.8',\n",
       "  'CGPA': '9.01',\n",
       "  'Research': '3',\n",
       "  'Chance of Admit': '86.69'}]"
      ]
     },
     "execution_count": 191,
     "metadata": {},
     "output_type": "execute_result"
    }
   ],
   "source": [
    "data"
   ]
  },
  {
   "cell_type": "code",
   "execution_count": 192,
   "metadata": {},
   "outputs": [],
   "source": [
    "rec = collection.insert_many(data)"
   ]
  },
  {
   "cell_type": "code",
   "execution_count": 193,
   "metadata": {},
   "outputs": [],
   "source": [
    "res = collection.find()"
   ]
  },
  {
   "cell_type": "code",
   "execution_count": 194,
   "metadata": {},
   "outputs": [
    {
     "name": "stdout",
     "output_type": "stream",
     "text": [
      "{'_id': ObjectId('64e1fa8585459efe75b310e5'), 'Serial No': '005', 'GRE score': '338', 'TOEFL Score': '150', 'University Rating': '8', 'SOP': '4.8', 'CGPA': '8.65', 'Research': '0', 'Chance of Admit': '90'}\n",
      "{'_id': ObjectId('64e1fa8585459efe75b310e6'), 'Serial No': '009', 'GRE score': '454', 'TOEFL Score': '150', 'University Rating': '14', 'SOP': '4.8', 'CGPA': '9.01', 'Research': '3', 'Chance of Admit': '86.69'}\n",
      "{'_id': ObjectId('64e2006185459efe75b310e7'), 'Serial No': '005', 'GRE score': '338', 'TOEFL Score': '150', 'University Rating': '8', 'SOP': '4.8', 'CGPA': '8.65', 'Research': '0', 'Chance of Admit': '90'}\n",
      "{'_id': ObjectId('64e2006185459efe75b310e8'), 'Serial No': '009', 'GRE score': '454', 'TOEFL Score': '150', 'University Rating': '14', 'SOP': '4.8', 'CGPA': '9.01', 'Research': '3', 'Chance of Admit': '86.69'}\n",
      "{'_id': ObjectId('64e2021d85459efe75b310eb'), 'Serial No': '005', 'GRE score': '338', 'TOEFL Score': '150', 'University Rating': '8', 'SOP': '4.8', 'CGPA': '8.65', 'Research': '0', 'Chance of Admit': '90'}\n",
      "{'_id': ObjectId('64e2021d85459efe75b310ec'), 'Serial No': '009', 'GRE score': '454', 'TOEFL Score': '150', 'University Rating': '14', 'SOP': '4.8', 'CGPA': '9.01', 'Research': '3', 'Chance of Admit': '86.69'}\n",
      "{'_id': ObjectId('64e2211685459efe75b310ef'), 'Serial No': '005', 'GRE score': '338', 'TOEFL Score': '150', 'University Rating': '8', 'SOP': '4.8', 'CGPA': '8.65', 'Research': '0', 'Chance of Admit': '90'}\n",
      "{'_id': ObjectId('64e2211685459efe75b310f0'), 'Serial No': '009', 'GRE score': '454', 'TOEFL Score': '150', 'University Rating': '14', 'SOP': '4.8', 'CGPA': '9.01', 'Research': '3', 'Chance of Admit': '86.69'}\n",
      "{'_id': ObjectId('64e2575f85459efe75b310f2'), 'Serial No': '007', 'GRE score': '337', 'TOEFL Score': '118', 'University Rating': '4', 'SOP': '4.5', 'CGPA': '9.65', 'Research': '1', 'Chance of Admit': '9998'}\n",
      "{'_id': ObjectId('64e2575f85459efe75b310f3'), 'Serial No': '005', 'GRE score': '338', 'TOEFL Score': '108', 'University Rating': '8', 'SOP': '4.8', 'CGPA': '8.65', 'Research': '0', 'Chance of Admit': '90'}\n",
      "{'_id': ObjectId('64e2575f85459efe75b310f4'), 'Serial No': '009', 'GRE score': '454', 'TOEFL Score': '147', 'University Rating': '14', 'SOP': '4.8', 'CGPA': '9.01', 'Research': '3', 'Chance of Admit': '86.69'}\n"
     ]
    }
   ],
   "source": [
    "for i in res:\n",
    "    print(i)"
   ]
  },
  {
   "cell_type": "code",
   "execution_count": 195,
   "metadata": {},
   "outputs": [],
   "source": [
    "result = collection.find({})"
   ]
  },
  {
   "cell_type": "code",
   "execution_count": 196,
   "metadata": {},
   "outputs": [
    {
     "data": {
      "text/plain": [
       "{'_id': ObjectId('64e2006185459efe75b310e7'),\n",
       " 'Serial No': '005',\n",
       " 'GRE score': '338',\n",
       " 'TOEFL Score': '150',\n",
       " 'University Rating': '8',\n",
       " 'SOP': '4.8',\n",
       " 'CGPA': '8.65',\n",
       " 'Research': '0',\n",
       " 'Chance of Admit': '90'}"
      ]
     },
     "execution_count": 196,
     "metadata": {},
     "output_type": "execute_result"
    }
   ],
   "source": [
    "result[2]"
   ]
  },
  {
   "cell_type": "code",
   "execution_count": 197,
   "metadata": {},
   "outputs": [],
   "source": [
    "# lets set limit to our\n",
    "\n",
    "result_total = collection.find({}).limit(3)"
   ]
  },
  {
   "cell_type": "code",
   "execution_count": 198,
   "metadata": {},
   "outputs": [
    {
     "name": "stdout",
     "output_type": "stream",
     "text": [
      "{'_id': ObjectId('64e1fa8585459efe75b310e5'), 'Serial No': '005', 'GRE score': '338', 'TOEFL Score': '150', 'University Rating': '8', 'SOP': '4.8', 'CGPA': '8.65', 'Research': '0', 'Chance of Admit': '90'}\n",
      "{'_id': ObjectId('64e1fa8585459efe75b310e6'), 'Serial No': '009', 'GRE score': '454', 'TOEFL Score': '150', 'University Rating': '14', 'SOP': '4.8', 'CGPA': '9.01', 'Research': '3', 'Chance of Admit': '86.69'}\n",
      "{'_id': ObjectId('64e2006185459efe75b310e7'), 'Serial No': '005', 'GRE score': '338', 'TOEFL Score': '150', 'University Rating': '8', 'SOP': '4.8', 'CGPA': '8.65', 'Research': '0', 'Chance of Admit': '90'}\n"
     ]
    }
   ],
   "source": [
    "for i in result_total:\n",
    "    print(i)"
   ]
  },
  {
   "cell_type": "code",
   "execution_count": 199,
   "metadata": {},
   "outputs": [],
   "source": [
    "# getting specific data \n",
    "# lets get GRE score' and  \"TOEFL Score\""
   ]
  },
  {
   "cell_type": "code",
   "execution_count": 200,
   "metadata": {},
   "outputs": [],
   "source": [
    "result = collection.find({},{\"GRE score\",\"TOEFL Score\"})"
   ]
  },
  {
   "cell_type": "code",
   "execution_count": 201,
   "metadata": {},
   "outputs": [
    {
     "name": "stdout",
     "output_type": "stream",
     "text": [
      "{'_id': ObjectId('64e1fa8585459efe75b310e5'), 'GRE score': '338', 'TOEFL Score': '150'}\n",
      "{'_id': ObjectId('64e1fa8585459efe75b310e6'), 'GRE score': '454', 'TOEFL Score': '150'}\n",
      "{'_id': ObjectId('64e2006185459efe75b310e7'), 'GRE score': '338', 'TOEFL Score': '150'}\n",
      "{'_id': ObjectId('64e2006185459efe75b310e8'), 'GRE score': '454', 'TOEFL Score': '150'}\n",
      "{'_id': ObjectId('64e2021d85459efe75b310eb'), 'GRE score': '338', 'TOEFL Score': '150'}\n",
      "{'_id': ObjectId('64e2021d85459efe75b310ec'), 'GRE score': '454', 'TOEFL Score': '150'}\n",
      "{'_id': ObjectId('64e2211685459efe75b310ef'), 'GRE score': '338', 'TOEFL Score': '150'}\n",
      "{'_id': ObjectId('64e2211685459efe75b310f0'), 'GRE score': '454', 'TOEFL Score': '150'}\n",
      "{'_id': ObjectId('64e2575f85459efe75b310f2'), 'GRE score': '337', 'TOEFL Score': '118'}\n",
      "{'_id': ObjectId('64e2575f85459efe75b310f3'), 'GRE score': '338', 'TOEFL Score': '108'}\n",
      "{'_id': ObjectId('64e2575f85459efe75b310f4'), 'GRE score': '454', 'TOEFL Score': '147'}\n"
     ]
    }
   ],
   "source": [
    "for i in result:\n",
    "    print(i)"
   ]
  },
  {
   "cell_type": "code",
   "execution_count": 202,
   "metadata": {},
   "outputs": [],
   "source": [
    "result = collection.find({},{'CGPA','University Rating'})"
   ]
  },
  {
   "cell_type": "code",
   "execution_count": 203,
   "metadata": {},
   "outputs": [
    {
     "name": "stdout",
     "output_type": "stream",
     "text": [
      "{'_id': ObjectId('64e1fa8585459efe75b310e5'), 'University Rating': '8', 'CGPA': '8.65'}\n",
      "{'_id': ObjectId('64e1fa8585459efe75b310e6'), 'University Rating': '14', 'CGPA': '9.01'}\n",
      "{'_id': ObjectId('64e2006185459efe75b310e7'), 'University Rating': '8', 'CGPA': '8.65'}\n",
      "{'_id': ObjectId('64e2006185459efe75b310e8'), 'University Rating': '14', 'CGPA': '9.01'}\n",
      "{'_id': ObjectId('64e2021d85459efe75b310eb'), 'University Rating': '8', 'CGPA': '8.65'}\n",
      "{'_id': ObjectId('64e2021d85459efe75b310ec'), 'University Rating': '14', 'CGPA': '9.01'}\n",
      "{'_id': ObjectId('64e2211685459efe75b310ef'), 'University Rating': '8', 'CGPA': '8.65'}\n",
      "{'_id': ObjectId('64e2211685459efe75b310f0'), 'University Rating': '14', 'CGPA': '9.01'}\n",
      "{'_id': ObjectId('64e2575f85459efe75b310f2'), 'University Rating': '4', 'CGPA': '9.65'}\n",
      "{'_id': ObjectId('64e2575f85459efe75b310f3'), 'University Rating': '8', 'CGPA': '8.65'}\n",
      "{'_id': ObjectId('64e2575f85459efe75b310f4'), 'University Rating': '14', 'CGPA': '9.01'}\n"
     ]
    }
   ],
   "source": [
    "for i in result:\n",
    "    print(i)"
   ]
  },
  {
   "cell_type": "code",
   "execution_count": 204,
   "metadata": {},
   "outputs": [],
   "source": [
    "# if you want to find inly 5 records \n",
    "result = collection.find({}).limit(5)"
   ]
  },
  {
   "cell_type": "code",
   "execution_count": 205,
   "metadata": {},
   "outputs": [
    {
     "name": "stdout",
     "output_type": "stream",
     "text": [
      "{'_id': ObjectId('64e1fa8585459efe75b310e5'), 'Serial No': '005', 'GRE score': '338', 'TOEFL Score': '150', 'University Rating': '8', 'SOP': '4.8', 'CGPA': '8.65', 'Research': '0', 'Chance of Admit': '90'}\n",
      "{'_id': ObjectId('64e1fa8585459efe75b310e6'), 'Serial No': '009', 'GRE score': '454', 'TOEFL Score': '150', 'University Rating': '14', 'SOP': '4.8', 'CGPA': '9.01', 'Research': '3', 'Chance of Admit': '86.69'}\n",
      "{'_id': ObjectId('64e2006185459efe75b310e7'), 'Serial No': '005', 'GRE score': '338', 'TOEFL Score': '150', 'University Rating': '8', 'SOP': '4.8', 'CGPA': '8.65', 'Research': '0', 'Chance of Admit': '90'}\n",
      "{'_id': ObjectId('64e2006185459efe75b310e8'), 'Serial No': '009', 'GRE score': '454', 'TOEFL Score': '150', 'University Rating': '14', 'SOP': '4.8', 'CGPA': '9.01', 'Research': '3', 'Chance of Admit': '86.69'}\n",
      "{'_id': ObjectId('64e2021d85459efe75b310eb'), 'Serial No': '005', 'GRE score': '338', 'TOEFL Score': '150', 'University Rating': '8', 'SOP': '4.8', 'CGPA': '8.65', 'Research': '0', 'Chance of Admit': '90'}\n"
     ]
    }
   ],
   "source": [
    "for i in result:\n",
    "    print(i)"
   ]
  },
  {
   "cell_type": "code",
   "execution_count": 206,
   "metadata": {},
   "outputs": [
    {
     "name": "stdout",
     "output_type": "stream",
     "text": [
      "{'_id': ObjectId('64e1fa8585459efe75b310e6'), 'Serial No': '009', 'GRE score': '454', 'TOEFL Score': '150', 'University Rating': '14', 'SOP': '4.8', 'CGPA': '9.01', 'Research': '3', 'Chance of Admit': '86.69'}\n",
      "{'_id': ObjectId('64e2006185459efe75b310e8'), 'Serial No': '009', 'GRE score': '454', 'TOEFL Score': '150', 'University Rating': '14', 'SOP': '4.8', 'CGPA': '9.01', 'Research': '3', 'Chance of Admit': '86.69'}\n",
      "{'_id': ObjectId('64e2021d85459efe75b310ec'), 'Serial No': '009', 'GRE score': '454', 'TOEFL Score': '150', 'University Rating': '14', 'SOP': '4.8', 'CGPA': '9.01', 'Research': '3', 'Chance of Admit': '86.69'}\n",
      "{'_id': ObjectId('64e2211685459efe75b310f0'), 'Serial No': '009', 'GRE score': '454', 'TOEFL Score': '150', 'University Rating': '14', 'SOP': '4.8', 'CGPA': '9.01', 'Research': '3', 'Chance of Admit': '86.69'}\n",
      "{'_id': ObjectId('64e2575f85459efe75b310f4'), 'Serial No': '009', 'GRE score': '454', 'TOEFL Score': '147', 'University Rating': '14', 'SOP': '4.8', 'CGPA': '9.01', 'Research': '3', 'Chance of Admit': '86.69'}\n"
     ]
    }
   ],
   "source": [
    "# find specific query\n",
    "\n",
    "my_query = {\"GRE score\": \"454\"}\n",
    "\n",
    "result = collection.find(my_query)\n",
    "\n",
    "for i in result:\n",
    "    print(i)"
   ]
  },
  {
   "cell_type": "code",
   "execution_count": 207,
   "metadata": {},
   "outputs": [
    {
     "name": "stdout",
     "output_type": "stream",
     "text": [
      "{'_id': ObjectId('64e1fa8585459efe75b310e6'), 'Serial No': '009', 'GRE score': '454', 'TOEFL Score': '150', 'University Rating': '14', 'SOP': '4.8', 'CGPA': '9.01', 'Research': '3', 'Chance of Admit': '86.69'}\n",
      "{'_id': ObjectId('64e2006185459efe75b310e8'), 'Serial No': '009', 'GRE score': '454', 'TOEFL Score': '150', 'University Rating': '14', 'SOP': '4.8', 'CGPA': '9.01', 'Research': '3', 'Chance of Admit': '86.69'}\n",
      "{'_id': ObjectId('64e2021d85459efe75b310ec'), 'Serial No': '009', 'GRE score': '454', 'TOEFL Score': '150', 'University Rating': '14', 'SOP': '4.8', 'CGPA': '9.01', 'Research': '3', 'Chance of Admit': '86.69'}\n",
      "{'_id': ObjectId('64e2211685459efe75b310f0'), 'Serial No': '009', 'GRE score': '454', 'TOEFL Score': '150', 'University Rating': '14', 'SOP': '4.8', 'CGPA': '9.01', 'Research': '3', 'Chance of Admit': '86.69'}\n",
      "{'_id': ObjectId('64e2575f85459efe75b310f4'), 'Serial No': '009', 'GRE score': '454', 'TOEFL Score': '147', 'University Rating': '14', 'SOP': '4.8', 'CGPA': '9.01', 'Research': '3', 'Chance of Admit': '86.69'}\n"
     ]
    }
   ],
   "source": [
    "# leta us e filt er \n",
    "\n",
    "# $gt graeter than \n",
    "# $lt less than\n",
    "\n",
    "\n",
    "# lets try \n",
    "my_query = {\"GRE score\":{\"$gt\":\"350\"}}\n",
    "\n",
    "gre_q = collection.find(my_query)\n",
    "\n",
    "for i in gre_q:\n",
    "    print(i)"
   ]
  },
  {
   "cell_type": "code",
   "execution_count": 208,
   "metadata": {},
   "outputs": [
    {
     "name": "stdout",
     "output_type": "stream",
     "text": [
      "{'_id': ObjectId('64e1fa8585459efe75b310e5'), 'Serial No': '005', 'GRE score': '338', 'TOEFL Score': '150', 'University Rating': '8', 'SOP': '4.8', 'CGPA': '8.65', 'Research': '0', 'Chance of Admit': '90'}\n",
      "{'_id': ObjectId('64e2006185459efe75b310e7'), 'Serial No': '005', 'GRE score': '338', 'TOEFL Score': '150', 'University Rating': '8', 'SOP': '4.8', 'CGPA': '8.65', 'Research': '0', 'Chance of Admit': '90'}\n",
      "{'_id': ObjectId('64e2021d85459efe75b310eb'), 'Serial No': '005', 'GRE score': '338', 'TOEFL Score': '150', 'University Rating': '8', 'SOP': '4.8', 'CGPA': '8.65', 'Research': '0', 'Chance of Admit': '90'}\n",
      "{'_id': ObjectId('64e2211685459efe75b310ef'), 'Serial No': '005', 'GRE score': '338', 'TOEFL Score': '150', 'University Rating': '8', 'SOP': '4.8', 'CGPA': '8.65', 'Research': '0', 'Chance of Admit': '90'}\n",
      "{'_id': ObjectId('64e2575f85459efe75b310f2'), 'Serial No': '007', 'GRE score': '337', 'TOEFL Score': '118', 'University Rating': '4', 'SOP': '4.5', 'CGPA': '9.65', 'Research': '1', 'Chance of Admit': '9998'}\n",
      "{'_id': ObjectId('64e2575f85459efe75b310f3'), 'Serial No': '005', 'GRE score': '338', 'TOEFL Score': '108', 'University Rating': '8', 'SOP': '4.8', 'CGPA': '8.65', 'Research': '0', 'Chance of Admit': '90'}\n"
     ]
    }
   ],
   "source": [
    "# now try $lt query\n",
    "my_query = {\"GRE score\":{\"$lt\":\"350\"}}\n",
    "\n",
    "gre_q = collection.find(my_query)\n",
    "\n",
    "for i in gre_q:\n",
    "    print(i)"
   ]
  },
  {
   "cell_type": "markdown",
   "metadata": {},
   "source": [
    "lets do sorting"
   ]
  },
  {
   "cell_type": "code",
   "execution_count": 209,
   "metadata": {},
   "outputs": [
    {
     "name": "stdout",
     "output_type": "stream",
     "text": [
      "{'_id': ObjectId('64e2575f85459efe75b310f2'), 'Serial No': '007', 'GRE score': '337', 'TOEFL Score': '118', 'University Rating': '4', 'SOP': '4.5', 'CGPA': '9.65', 'Research': '1', 'Chance of Admit': '9998'}\n",
      "{'_id': ObjectId('64e1fa8585459efe75b310e5'), 'Serial No': '005', 'GRE score': '338', 'TOEFL Score': '150', 'University Rating': '8', 'SOP': '4.8', 'CGPA': '8.65', 'Research': '0', 'Chance of Admit': '90'}\n",
      "{'_id': ObjectId('64e2006185459efe75b310e7'), 'Serial No': '005', 'GRE score': '338', 'TOEFL Score': '150', 'University Rating': '8', 'SOP': '4.8', 'CGPA': '8.65', 'Research': '0', 'Chance of Admit': '90'}\n",
      "{'_id': ObjectId('64e2021d85459efe75b310eb'), 'Serial No': '005', 'GRE score': '338', 'TOEFL Score': '150', 'University Rating': '8', 'SOP': '4.8', 'CGPA': '8.65', 'Research': '0', 'Chance of Admit': '90'}\n",
      "{'_id': ObjectId('64e2211685459efe75b310ef'), 'Serial No': '005', 'GRE score': '338', 'TOEFL Score': '150', 'University Rating': '8', 'SOP': '4.8', 'CGPA': '8.65', 'Research': '0', 'Chance of Admit': '90'}\n",
      "{'_id': ObjectId('64e2575f85459efe75b310f3'), 'Serial No': '005', 'GRE score': '338', 'TOEFL Score': '108', 'University Rating': '8', 'SOP': '4.8', 'CGPA': '8.65', 'Research': '0', 'Chance of Admit': '90'}\n",
      "{'_id': ObjectId('64e1fa8585459efe75b310e6'), 'Serial No': '009', 'GRE score': '454', 'TOEFL Score': '150', 'University Rating': '14', 'SOP': '4.8', 'CGPA': '9.01', 'Research': '3', 'Chance of Admit': '86.69'}\n",
      "{'_id': ObjectId('64e2006185459efe75b310e8'), 'Serial No': '009', 'GRE score': '454', 'TOEFL Score': '150', 'University Rating': '14', 'SOP': '4.8', 'CGPA': '9.01', 'Research': '3', 'Chance of Admit': '86.69'}\n",
      "{'_id': ObjectId('64e2021d85459efe75b310ec'), 'Serial No': '009', 'GRE score': '454', 'TOEFL Score': '150', 'University Rating': '14', 'SOP': '4.8', 'CGPA': '9.01', 'Research': '3', 'Chance of Admit': '86.69'}\n",
      "{'_id': ObjectId('64e2211685459efe75b310f0'), 'Serial No': '009', 'GRE score': '454', 'TOEFL Score': '150', 'University Rating': '14', 'SOP': '4.8', 'CGPA': '9.01', 'Research': '3', 'Chance of Admit': '86.69'}\n",
      "{'_id': ObjectId('64e2575f85459efe75b310f4'), 'Serial No': '009', 'GRE score': '454', 'TOEFL Score': '147', 'University Rating': '14', 'SOP': '4.8', 'CGPA': '9.01', 'Research': '3', 'Chance of Admit': '86.69'}\n"
     ]
    }
   ],
   "source": [
    "# lets do sorting\n",
    "\n",
    "sorted_data = collection.find().sort(\"GRE score\")\n",
    "for i in sorted_data:\n",
    "    print(i)"
   ]
  },
  {
   "cell_type": "code",
   "execution_count": 210,
   "metadata": {},
   "outputs": [
    {
     "name": "stdout",
     "output_type": "stream",
     "text": [
      "{'_id': ObjectId('64e1fa8585459efe75b310e6'), 'Serial No': '009', 'GRE score': '454', 'TOEFL Score': '150', 'University Rating': '14', 'SOP': '4.8', 'CGPA': '9.01', 'Research': '3', 'Chance of Admit': '86.69'}\n",
      "{'_id': ObjectId('64e2006185459efe75b310e8'), 'Serial No': '009', 'GRE score': '454', 'TOEFL Score': '150', 'University Rating': '14', 'SOP': '4.8', 'CGPA': '9.01', 'Research': '3', 'Chance of Admit': '86.69'}\n",
      "{'_id': ObjectId('64e2021d85459efe75b310ec'), 'Serial No': '009', 'GRE score': '454', 'TOEFL Score': '150', 'University Rating': '14', 'SOP': '4.8', 'CGPA': '9.01', 'Research': '3', 'Chance of Admit': '86.69'}\n",
      "{'_id': ObjectId('64e2211685459efe75b310f0'), 'Serial No': '009', 'GRE score': '454', 'TOEFL Score': '150', 'University Rating': '14', 'SOP': '4.8', 'CGPA': '9.01', 'Research': '3', 'Chance of Admit': '86.69'}\n",
      "{'_id': ObjectId('64e2575f85459efe75b310f4'), 'Serial No': '009', 'GRE score': '454', 'TOEFL Score': '147', 'University Rating': '14', 'SOP': '4.8', 'CGPA': '9.01', 'Research': '3', 'Chance of Admit': '86.69'}\n",
      "{'_id': ObjectId('64e1fa8585459efe75b310e5'), 'Serial No': '005', 'GRE score': '338', 'TOEFL Score': '150', 'University Rating': '8', 'SOP': '4.8', 'CGPA': '8.65', 'Research': '0', 'Chance of Admit': '90'}\n",
      "{'_id': ObjectId('64e2006185459efe75b310e7'), 'Serial No': '005', 'GRE score': '338', 'TOEFL Score': '150', 'University Rating': '8', 'SOP': '4.8', 'CGPA': '8.65', 'Research': '0', 'Chance of Admit': '90'}\n",
      "{'_id': ObjectId('64e2021d85459efe75b310eb'), 'Serial No': '005', 'GRE score': '338', 'TOEFL Score': '150', 'University Rating': '8', 'SOP': '4.8', 'CGPA': '8.65', 'Research': '0', 'Chance of Admit': '90'}\n",
      "{'_id': ObjectId('64e2211685459efe75b310ef'), 'Serial No': '005', 'GRE score': '338', 'TOEFL Score': '150', 'University Rating': '8', 'SOP': '4.8', 'CGPA': '8.65', 'Research': '0', 'Chance of Admit': '90'}\n",
      "{'_id': ObjectId('64e2575f85459efe75b310f3'), 'Serial No': '005', 'GRE score': '338', 'TOEFL Score': '108', 'University Rating': '8', 'SOP': '4.8', 'CGPA': '8.65', 'Research': '0', 'Chance of Admit': '90'}\n",
      "{'_id': ObjectId('64e2575f85459efe75b310f2'), 'Serial No': '007', 'GRE score': '337', 'TOEFL Score': '118', 'University Rating': '4', 'SOP': '4.5', 'CGPA': '9.65', 'Research': '1', 'Chance of Admit': '9998'}\n"
     ]
    }
   ],
   "source": [
    "# if  we want in decendinfg order \n",
    "\n",
    "sorted_data = collection.find().sort(\"GRE score\",-1)\n",
    "for i in sorted_data:\n",
    "    print(i)"
   ]
  },
  {
   "cell_type": "code",
   "execution_count": 211,
   "metadata": {},
   "outputs": [],
   "source": [
    "# deleting singlee row\n",
    "\n",
    "\n",
    "del_query = {'TOEFL Score': '118'}\n",
    "\n",
    "del_q = collection.delete_one(del_query)\n"
   ]
  },
  {
   "cell_type": "code",
   "execution_count": 212,
   "metadata": {},
   "outputs": [
    {
     "data": {
      "text/plain": [
       "1"
      ]
     },
     "execution_count": 212,
     "metadata": {},
     "output_type": "execute_result"
    }
   ],
   "source": [
    "del_q.deleted_count"
   ]
  },
  {
   "cell_type": "code",
   "execution_count": null,
   "metadata": {},
   "outputs": [],
   "source": []
  },
  {
   "cell_type": "code",
   "execution_count": 213,
   "metadata": {},
   "outputs": [],
   "source": [
    "# deleting multipal rows\n",
    "\n",
    "del_query = {'TOEFL Score': '118'}\n",
    "\n",
    "del_q = collection.delete_many(del_query)"
   ]
  },
  {
   "cell_type": "code",
   "execution_count": 214,
   "metadata": {},
   "outputs": [
    {
     "data": {
      "text/plain": [
       "0"
      ]
     },
     "execution_count": 214,
     "metadata": {},
     "output_type": "execute_result"
    }
   ],
   "source": [
    "del_q.deleted_count"
   ]
  },
  {
   "cell_type": "code",
   "execution_count": 215,
   "metadata": {},
   "outputs": [],
   "source": [
    "# lets update value \n",
    "query = {\"TOEFL Score\": \"108\"}\n",
    "update_query = {\"$set\":{\"TOEFL Score\": \"150\"}}"
   ]
  },
  {
   "cell_type": "code",
   "execution_count": 216,
   "metadata": {},
   "outputs": [],
   "source": [
    "x = collection.update_many(query,update_query)"
   ]
  },
  {
   "cell_type": "code",
   "execution_count": 217,
   "metadata": {},
   "outputs": [
    {
     "data": {
      "text/plain": [
       "1"
      ]
     },
     "execution_count": 217,
     "metadata": {},
     "output_type": "execute_result"
    }
   ],
   "source": [
    "x.modified_count"
   ]
  },
  {
   "cell_type": "code",
   "execution_count": 218,
   "metadata": {},
   "outputs": [
    {
     "name": "stdout",
     "output_type": "stream",
     "text": [
      "{'_id': ObjectId('64e1fa8585459efe75b310e5'), 'Serial No': '005', 'GRE score': '338', 'TOEFL Score': '150', 'University Rating': '8', 'SOP': '4.8', 'CGPA': '8.65', 'Research': '0', 'Chance of Admit': '90'}\n",
      "{'_id': ObjectId('64e1fa8585459efe75b310e6'), 'Serial No': '009', 'GRE score': '454', 'TOEFL Score': '150', 'University Rating': '14', 'SOP': '4.8', 'CGPA': '9.01', 'Research': '3', 'Chance of Admit': '86.69'}\n",
      "{'_id': ObjectId('64e2006185459efe75b310e7'), 'Serial No': '005', 'GRE score': '338', 'TOEFL Score': '150', 'University Rating': '8', 'SOP': '4.8', 'CGPA': '8.65', 'Research': '0', 'Chance of Admit': '90'}\n",
      "{'_id': ObjectId('64e2006185459efe75b310e8'), 'Serial No': '009', 'GRE score': '454', 'TOEFL Score': '150', 'University Rating': '14', 'SOP': '4.8', 'CGPA': '9.01', 'Research': '3', 'Chance of Admit': '86.69'}\n",
      "{'_id': ObjectId('64e2021d85459efe75b310eb'), 'Serial No': '005', 'GRE score': '338', 'TOEFL Score': '150', 'University Rating': '8', 'SOP': '4.8', 'CGPA': '8.65', 'Research': '0', 'Chance of Admit': '90'}\n",
      "{'_id': ObjectId('64e2021d85459efe75b310ec'), 'Serial No': '009', 'GRE score': '454', 'TOEFL Score': '150', 'University Rating': '14', 'SOP': '4.8', 'CGPA': '9.01', 'Research': '3', 'Chance of Admit': '86.69'}\n",
      "{'_id': ObjectId('64e2211685459efe75b310ef'), 'Serial No': '005', 'GRE score': '338', 'TOEFL Score': '150', 'University Rating': '8', 'SOP': '4.8', 'CGPA': '8.65', 'Research': '0', 'Chance of Admit': '90'}\n",
      "{'_id': ObjectId('64e2211685459efe75b310f0'), 'Serial No': '009', 'GRE score': '454', 'TOEFL Score': '150', 'University Rating': '14', 'SOP': '4.8', 'CGPA': '9.01', 'Research': '3', 'Chance of Admit': '86.69'}\n",
      "{'_id': ObjectId('64e2575f85459efe75b310f3'), 'Serial No': '005', 'GRE score': '338', 'TOEFL Score': '150', 'University Rating': '8', 'SOP': '4.8', 'CGPA': '8.65', 'Research': '0', 'Chance of Admit': '90'}\n",
      "{'_id': ObjectId('64e2575f85459efe75b310f4'), 'Serial No': '009', 'GRE score': '454', 'TOEFL Score': '147', 'University Rating': '14', 'SOP': '4.8', 'CGPA': '9.01', 'Research': '3', 'Chance of Admit': '86.69'}\n"
     ]
    }
   ],
   "source": [
    "result = collection.find()\n",
    "for i in result:\n",
    "    print(i)"
   ]
  },
  {
   "cell_type": "code",
   "execution_count": 219,
   "metadata": {},
   "outputs": [],
   "source": [
    "query = {'GRE score': '456'}\n",
    "update_q = {\"$set\":{'GRE score': '455'}}"
   ]
  },
  {
   "cell_type": "code",
   "execution_count": 220,
   "metadata": {},
   "outputs": [],
   "source": [
    "x = collection.update_many(query,update_query)"
   ]
  },
  {
   "cell_type": "code",
   "execution_count": 221,
   "metadata": {},
   "outputs": [
    {
     "data": {
      "text/plain": [
       "0"
      ]
     },
     "execution_count": 221,
     "metadata": {},
     "output_type": "execute_result"
    }
   ],
   "source": [
    "x.modified_count"
   ]
  },
  {
   "cell_type": "code",
   "execution_count": 222,
   "metadata": {},
   "outputs": [
    {
     "name": "stdout",
     "output_type": "stream",
     "text": [
      "{'_id': ObjectId('64e1fa8585459efe75b310e5'), 'Serial No': '005', 'GRE score': '338', 'TOEFL Score': '150', 'University Rating': '8', 'SOP': '4.8', 'CGPA': '8.65', 'Research': '0', 'Chance of Admit': '90'}\n",
      "{'_id': ObjectId('64e1fa8585459efe75b310e6'), 'Serial No': '009', 'GRE score': '454', 'TOEFL Score': '150', 'University Rating': '14', 'SOP': '4.8', 'CGPA': '9.01', 'Research': '3', 'Chance of Admit': '86.69'}\n",
      "{'_id': ObjectId('64e2006185459efe75b310e7'), 'Serial No': '005', 'GRE score': '338', 'TOEFL Score': '150', 'University Rating': '8', 'SOP': '4.8', 'CGPA': '8.65', 'Research': '0', 'Chance of Admit': '90'}\n",
      "{'_id': ObjectId('64e2006185459efe75b310e8'), 'Serial No': '009', 'GRE score': '454', 'TOEFL Score': '150', 'University Rating': '14', 'SOP': '4.8', 'CGPA': '9.01', 'Research': '3', 'Chance of Admit': '86.69'}\n",
      "{'_id': ObjectId('64e2021d85459efe75b310eb'), 'Serial No': '005', 'GRE score': '338', 'TOEFL Score': '150', 'University Rating': '8', 'SOP': '4.8', 'CGPA': '8.65', 'Research': '0', 'Chance of Admit': '90'}\n",
      "{'_id': ObjectId('64e2021d85459efe75b310ec'), 'Serial No': '009', 'GRE score': '454', 'TOEFL Score': '150', 'University Rating': '14', 'SOP': '4.8', 'CGPA': '9.01', 'Research': '3', 'Chance of Admit': '86.69'}\n",
      "{'_id': ObjectId('64e2211685459efe75b310ef'), 'Serial No': '005', 'GRE score': '338', 'TOEFL Score': '150', 'University Rating': '8', 'SOP': '4.8', 'CGPA': '8.65', 'Research': '0', 'Chance of Admit': '90'}\n",
      "{'_id': ObjectId('64e2211685459efe75b310f0'), 'Serial No': '009', 'GRE score': '454', 'TOEFL Score': '150', 'University Rating': '14', 'SOP': '4.8', 'CGPA': '9.01', 'Research': '3', 'Chance of Admit': '86.69'}\n",
      "{'_id': ObjectId('64e2575f85459efe75b310f3'), 'Serial No': '005', 'GRE score': '338', 'TOEFL Score': '150', 'University Rating': '8', 'SOP': '4.8', 'CGPA': '8.65', 'Research': '0', 'Chance of Admit': '90'}\n",
      "{'_id': ObjectId('64e2575f85459efe75b310f4'), 'Serial No': '009', 'GRE score': '454', 'TOEFL Score': '147', 'University Rating': '14', 'SOP': '4.8', 'CGPA': '9.01', 'Research': '3', 'Chance of Admit': '86.69'}\n"
     ]
    }
   ],
   "source": [
    "result = collection.find()\n",
    "for i in result:\n",
    "    print(i)"
   ]
  },
  {
   "cell_type": "code",
   "execution_count": 224,
   "metadata": {},
   "outputs": [],
   "source": [
    "# lets create  another colletion in same db\n",
    "\n",
    "collection_name1 = \"demo_colletion\"\n",
    "collection1 = db[collection_name1]"
   ]
  },
  {
   "cell_type": "code",
   "execution_count": 227,
   "metadata": {},
   "outputs": [
    {
     "data": {
      "text/plain": [
       "['admin', 'config', 'demo', 'local', 'pratical']"
      ]
     },
     "execution_count": 227,
     "metadata": {},
     "output_type": "execute_result"
    }
   ],
   "source": [
    "dbconn.list_database_names()"
   ]
  },
  {
   "cell_type": "code",
   "execution_count": 230,
   "metadata": {},
   "outputs": [
    {
     "data": {
      "text/plain": [
       "<pymongo.results.InsertOneResult at 0x1f7ebb41450>"
      ]
     },
     "execution_count": 230,
     "metadata": {},
     "output_type": "execute_result"
    }
   ],
   "source": [
    "collection1.insert_one({\n",
    "    \"name\" : \"aditya\",\n",
    "    \"last_name\":\"varpe\",\n",
    "    \"address\" : \"pune\"\n",
    "    })"
   ]
  },
  {
   "cell_type": "code",
   "execution_count": 231,
   "metadata": {},
   "outputs": [
    {
     "name": "stdout",
     "output_type": "stream",
     "text": [
      "{'_id': ObjectId('64e2581685459efe75b310f5'), 'name': 'aditya', 'last_name': 'varpe', 'address': 'pune'}\n"
     ]
    }
   ],
   "source": [
    "result = collection1.find()\n",
    "for i in result:\n",
    "    print(i)"
   ]
  },
  {
   "cell_type": "code",
   "execution_count": 233,
   "metadata": {},
   "outputs": [],
   "source": [
    "collection1.drop()"
   ]
  },
  {
   "cell_type": "code",
   "execution_count": 244,
   "metadata": {},
   "outputs": [],
   "source": [
    "dbconn.drop_database(\"demo\")"
   ]
  },
  {
   "cell_type": "code",
   "execution_count": null,
   "metadata": {},
   "outputs": [],
   "source": []
  }
 ],
 "metadata": {
  "kernelspec": {
   "display_name": "Python 3",
   "language": "python",
   "name": "python3"
  },
  "language_info": {
   "codemirror_mode": {
    "name": "ipython",
    "version": 3
   },
   "file_extension": ".py",
   "mimetype": "text/x-python",
   "name": "python",
   "nbconvert_exporter": "python",
   "pygments_lexer": "ipython3",
   "version": "3.10.0"
  },
  "orig_nbformat": 4
 },
 "nbformat": 4,
 "nbformat_minor": 2
}
