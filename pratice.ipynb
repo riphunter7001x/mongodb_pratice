{
 "cells": [
  {
   "cell_type": "code",
   "execution_count": 40,
   "metadata": {},
   "outputs": [],
   "source": [
    "import pymongo"
   ]
  },
  {
   "cell_type": "code",
   "execution_count": 41,
   "metadata": {},
   "outputs": [],
   "source": [
    "# connect notebook to database\n",
    "dbconn = pymongo.MongoClient(\"mongodb://localhost:27017/\")"
   ]
  },
  {
   "cell_type": "code",
   "execution_count": 42,
   "metadata": {},
   "outputs": [],
   "source": [
    "# lest crete new database \n",
    "dbname = \"ecomm_data\"\n",
    "db = dbconn[dbname]"
   ]
  },
  {
   "cell_type": "code",
   "execution_count": null,
   "metadata": {},
   "outputs": [],
   "source": []
  },
  {
   "cell_type": "code",
   "execution_count": 43,
   "metadata": {},
   "outputs": [],
   "source": [
    "# lets make collectionn\n",
    "collection_name = \"product\"\n",
    "collection = db[collection_name]"
   ]
  },
  {
   "cell_type": "code",
   "execution_count": 44,
   "metadata": {},
   "outputs": [],
   "source": [
    "data = [\n",
    "  {\n",
    "    \"_id\": 1,\n",
    "    \"name\": \"Smartphone\",\n",
    "    \"category\": \"Electronics\",\n",
    "    \"price\": 499.99,\n",
    "    \"stock\": 50,\n",
    "    \"rating\": 4.5,\n",
    "    \"color\": \"Black\"\n",
    "  },\n",
    "  {\n",
    "    \"_id\": 2,\n",
    "    \"name\": \"Laptop\",\n",
    "    \"category\": \"Electronics\",\n",
    "    \"price\": 999.99,\n",
    "    \"stock\": 20,\n",
    "    \"rating\": 4.8,\n",
    "    \"color\": \"Silver\"\n",
    "  },\n",
    "  {\n",
    "    \"_id\": 3,\n",
    "    \"name\": \"T-shirt\",\n",
    "    \"category\": \"Clothing\",\n",
    "    \"price\": 19.99,\n",
    "    \"stock\": 100,\n",
    "    \"rating\": 4.2,\n",
    "    \"color\": \"Red\"\n",
    "  },\n",
    "  {\n",
    "    \"_id\": 4,\n",
    "    \"name\": \"Headphones\",\n",
    "    \"category\": \"Electronics\",\n",
    "    \"price\": 79.99,\n",
    "    \"stock\": 30,\n",
    "    \"rating\": 4.6,\n",
    "    \"color\": \"White\"\n",
    "  },\n",
    "  {\n",
    "    \"_id\": 5,\n",
    "    \"name\": \"Sneakers\",\n",
    "    \"category\": \"Footwear\",\n",
    "    \"price\": 69.99,\n",
    "    \"stock\": 40,\n",
    "    \"rating\": 4.3,\n",
    "    \"color\": \"Blue\"\n",
    "  },\n",
    "  {\n",
    "    \"_id\": 6,\n",
    "    \"name\": \"Dress Shirt\",\n",
    "    \"category\": \"Clothing\",\n",
    "    \"price\": 39.99,\n",
    "    \"stock\": 60,\n",
    "    \"rating\": 4.1,\n",
    "    \"color\": \"White\"\n",
    "  },\n",
    "  {\n",
    "    \"_id\": 7,\n",
    "    \"name\": \"Tablet\",\n",
    "    \"category\": \"Electronics\",\n",
    "    \"price\": 299.99,\n",
    "    \"stock\": 15,\n",
    "    \"rating\": 4.4,\n",
    "    \"color\": \"Black\"\n",
    "  },\n",
    "  {\n",
    "    \"_id\": 8,\n",
    "    \"name\": \"Running Shoes\",\n",
    "    \"category\": \"Footwear\",\n",
    "    \"price\": 89.99,\n",
    "    \"stock\": 25,\n",
    "    \"rating\": 4.7,\n",
    "    \"color\": \"Gray\"\n",
    "  },\n",
    "  {\n",
    "    \"_id\": 9,\n",
    "    \"name\": \"Jeans\",\n",
    "    \"category\": \"Clothing\",\n",
    "    \"price\": 49.99,\n",
    "    \"stock\": 70,\n",
    "    \"rating\": 4.0,\n",
    "    \"color\": \"Blue\"\n",
    "  },\n",
    "  {\n",
    "    \"_id\": 10,\n",
    "    \"name\": \"Wireless Mouse\",\n",
    "    \"category\": \"Electronics\",\n",
    "    \"price\": 29.99,\n",
    "    \"stock\": 50,\n",
    "    \"rating\": 4.5,\n",
    "    \"color\": \"Black\"\n",
    "  }\n",
    "]\n"
   ]
  },
  {
   "cell_type": "code",
   "execution_count": 45,
   "metadata": {},
   "outputs": [
    {
     "ename": "BulkWriteError",
     "evalue": "batch op errors occurred, full error: {'writeErrors': [{'index': 0, 'code': 11000, 'errmsg': 'E11000 duplicate key error collection: ecomm_data.product index: _id_ dup key: { _id: 1 }', 'keyPattern': {'_id': 1}, 'keyValue': {'_id': 1}, 'op': {'_id': 1, 'name': 'Smartphone', 'category': 'Electronics', 'price': 499.99, 'stock': 50, 'rating': 4.5, 'color': 'Black'}}], 'writeConcernErrors': [], 'nInserted': 0, 'nUpserted': 0, 'nMatched': 0, 'nModified': 0, 'nRemoved': 0, 'upserted': []}",
     "output_type": "error",
     "traceback": [
      "\u001b[1;31m---------------------------------------------------------------------------\u001b[0m",
      "\u001b[1;31mBulkWriteError\u001b[0m                            Traceback (most recent call last)",
      "\u001b[1;32mc:\\mdb\\pratice.ipynb Cell 7\u001b[0m in \u001b[0;36m<cell line: 1>\u001b[1;34m()\u001b[0m\n\u001b[1;32m----> <a href='vscode-notebook-cell:/c%3A/mdb/pratice.ipynb#W5sZmlsZQ%3D%3D?line=0'>1</a>\u001b[0m collection\u001b[39m.\u001b[39;49minsert_many(data)\n",
      "File \u001b[1;32mc:\\Program Files\\Python310\\lib\\site-packages\\pymongo\\_csot.py:106\u001b[0m, in \u001b[0;36mapply.<locals>.csot_wrapper\u001b[1;34m(self, *args, **kwargs)\u001b[0m\n\u001b[0;32m    104\u001b[0m         \u001b[39mwith\u001b[39;00m _TimeoutContext(timeout):\n\u001b[0;32m    105\u001b[0m             \u001b[39mreturn\u001b[39;00m func(\u001b[39mself\u001b[39m, \u001b[39m*\u001b[39margs, \u001b[39m*\u001b[39m\u001b[39m*\u001b[39mkwargs)\n\u001b[1;32m--> 106\u001b[0m \u001b[39mreturn\u001b[39;00m func(\u001b[39mself\u001b[39m, \u001b[39m*\u001b[39margs, \u001b[39m*\u001b[39m\u001b[39m*\u001b[39mkwargs)\n",
      "File \u001b[1;32mc:\\Program Files\\Python310\\lib\\site-packages\\pymongo\\collection.py:725\u001b[0m, in \u001b[0;36mCollection.insert_many\u001b[1;34m(self, documents, ordered, bypass_document_validation, session, comment)\u001b[0m\n\u001b[0;32m    723\u001b[0m blk \u001b[39m=\u001b[39m _Bulk(\u001b[39mself\u001b[39m, ordered, bypass_document_validation, comment\u001b[39m=\u001b[39mcomment)\n\u001b[0;32m    724\u001b[0m blk\u001b[39m.\u001b[39mops \u001b[39m=\u001b[39m \u001b[39mlist\u001b[39m(gen())\n\u001b[1;32m--> 725\u001b[0m blk\u001b[39m.\u001b[39;49mexecute(write_concern, session\u001b[39m=\u001b[39;49msession)\n\u001b[0;32m    726\u001b[0m \u001b[39mreturn\u001b[39;00m InsertManyResult(inserted_ids, write_concern\u001b[39m.\u001b[39macknowledged)\n",
      "File \u001b[1;32mc:\\Program Files\\Python310\\lib\\site-packages\\pymongo\\bulk.py:514\u001b[0m, in \u001b[0;36m_Bulk.execute\u001b[1;34m(self, write_concern, session)\u001b[0m\n\u001b[0;32m    512\u001b[0m         \u001b[39mreturn\u001b[39;00m \u001b[39mNone\u001b[39;00m\n\u001b[0;32m    513\u001b[0m \u001b[39melse\u001b[39;00m:\n\u001b[1;32m--> 514\u001b[0m     \u001b[39mreturn\u001b[39;00m \u001b[39mself\u001b[39;49m\u001b[39m.\u001b[39;49mexecute_command(generator, write_concern, session)\n",
      "File \u001b[1;32mc:\\Program Files\\Python310\\lib\\site-packages\\pymongo\\bulk.py:394\u001b[0m, in \u001b[0;36m_Bulk.execute_command\u001b[1;34m(self, generator, write_concern, session)\u001b[0m\n\u001b[0;32m    391\u001b[0m     client\u001b[39m.\u001b[39m_retry_with_session(\u001b[39mself\u001b[39m\u001b[39m.\u001b[39mis_retryable, retryable_bulk, s, \u001b[39mself\u001b[39m)\n\u001b[0;32m    393\u001b[0m \u001b[39mif\u001b[39;00m full_result[\u001b[39m\"\u001b[39m\u001b[39mwriteErrors\u001b[39m\u001b[39m\"\u001b[39m] \u001b[39mor\u001b[39;00m full_result[\u001b[39m\"\u001b[39m\u001b[39mwriteConcernErrors\u001b[39m\u001b[39m\"\u001b[39m]:\n\u001b[1;32m--> 394\u001b[0m     _raise_bulk_write_error(full_result)\n\u001b[0;32m    395\u001b[0m \u001b[39mreturn\u001b[39;00m full_result\n",
      "File \u001b[1;32mc:\\Program Files\\Python310\\lib\\site-packages\\pymongo\\bulk.py:136\u001b[0m, in \u001b[0;36m_raise_bulk_write_error\u001b[1;34m(full_result)\u001b[0m\n\u001b[0;32m    134\u001b[0m \u001b[39mif\u001b[39;00m full_result[\u001b[39m\"\u001b[39m\u001b[39mwriteErrors\u001b[39m\u001b[39m\"\u001b[39m]:\n\u001b[0;32m    135\u001b[0m     full_result[\u001b[39m\"\u001b[39m\u001b[39mwriteErrors\u001b[39m\u001b[39m\"\u001b[39m]\u001b[39m.\u001b[39msort(key\u001b[39m=\u001b[39m\u001b[39mlambda\u001b[39;00m error: error[\u001b[39m\"\u001b[39m\u001b[39mindex\u001b[39m\u001b[39m\"\u001b[39m])\n\u001b[1;32m--> 136\u001b[0m \u001b[39mraise\u001b[39;00m BulkWriteError(full_result)\n",
      "\u001b[1;31mBulkWriteError\u001b[0m: batch op errors occurred, full error: {'writeErrors': [{'index': 0, 'code': 11000, 'errmsg': 'E11000 duplicate key error collection: ecomm_data.product index: _id_ dup key: { _id: 1 }', 'keyPattern': {'_id': 1}, 'keyValue': {'_id': 1}, 'op': {'_id': 1, 'name': 'Smartphone', 'category': 'Electronics', 'price': 499.99, 'stock': 50, 'rating': 4.5, 'color': 'Black'}}], 'writeConcernErrors': [], 'nInserted': 0, 'nUpserted': 0, 'nMatched': 0, 'nModified': 0, 'nRemoved': 0, 'upserted': []}"
     ]
    }
   ],
   "source": [
    "collection.insert_many(data)"
   ]
  },
  {
   "cell_type": "code",
   "execution_count": null,
   "metadata": {},
   "outputs": [],
   "source": [
    "# lets check what we Inserted \n",
    "result  = collection.find({})"
   ]
  },
  {
   "cell_type": "code",
   "execution_count": null,
   "metadata": {},
   "outputs": [
    {
     "name": "stdout",
     "output_type": "stream",
     "text": [
      "{'_id': 1, 'name': 'Smartphone', 'category': 'Electronics', 'price': 499.99, 'stock': 50, 'rating': 4.5, 'color': 'Black'}\n",
      "{'_id': 2, 'name': 'Laptop', 'category': 'Electronics', 'price': 999.99, 'stock': 20, 'rating': 4.8, 'color': 'Silver'}\n",
      "{'_id': 3, 'name': 'T-shirt', 'category': 'Clothing', 'price': 19.99, 'stock': 100, 'rating': 4.2, 'color': 'Red'}\n",
      "{'_id': 4, 'name': 'Headphones', 'category': 'Electronics', 'price': 79.99, 'stock': 30, 'rating': 4.6, 'color': 'White'}\n",
      "{'_id': 5, 'name': 'Sneakers', 'category': 'Footwear', 'price': 69.99, 'stock': 40, 'rating': 4.3, 'color': 'Blue'}\n",
      "{'_id': 6, 'name': 'Dress Shirt', 'category': 'Clothing', 'price': 39.99, 'stock': 60, 'rating': 4.1, 'color': 'White'}\n",
      "{'_id': 7, 'name': 'Tablet', 'category': 'Electronics', 'price': 299.99, 'stock': 15, 'rating': 4.4, 'color': 'Black'}\n",
      "{'_id': 8, 'name': 'Running Shoes', 'category': 'Footwear', 'price': 89.99, 'stock': 25, 'rating': 4.7, 'color': 'Gray'}\n",
      "{'_id': 9, 'name': 'Jeans', 'category': 'Clothing', 'price': 49.99, 'stock': 70, 'rating': 4.0, 'color': 'Blue'}\n",
      "{'_id': 10, 'name': 'Wireless Mouse', 'category': 'Electronics', 'price': 29.99, 'stock': 50, 'rating': 4.5, 'color': 'Black'}\n"
     ]
    }
   ],
   "source": [
    "for i in result:\n",
    "    print(i)"
   ]
  },
  {
   "cell_type": "code",
   "execution_count": null,
   "metadata": {},
   "outputs": [],
   "source": [
    "# lets do sorting \n",
    "\n",
    "sorted_result = collection.find().sort('price')"
   ]
  },
  {
   "cell_type": "code",
   "execution_count": null,
   "metadata": {},
   "outputs": [
    {
     "name": "stdout",
     "output_type": "stream",
     "text": [
      "{'_id': 3, 'name': 'T-shirt', 'category': 'Clothing', 'price': 19.99, 'stock': 100, 'rating': 4.2, 'color': 'Red'}\n",
      "{'_id': 10, 'name': 'Wireless Mouse', 'category': 'Electronics', 'price': 29.99, 'stock': 50, 'rating': 4.5, 'color': 'Black'}\n",
      "{'_id': 6, 'name': 'Dress Shirt', 'category': 'Clothing', 'price': 39.99, 'stock': 60, 'rating': 4.1, 'color': 'White'}\n",
      "{'_id': 9, 'name': 'Jeans', 'category': 'Clothing', 'price': 49.99, 'stock': 70, 'rating': 4.0, 'color': 'Blue'}\n",
      "{'_id': 5, 'name': 'Sneakers', 'category': 'Footwear', 'price': 69.99, 'stock': 40, 'rating': 4.3, 'color': 'Blue'}\n",
      "{'_id': 4, 'name': 'Headphones', 'category': 'Electronics', 'price': 79.99, 'stock': 30, 'rating': 4.6, 'color': 'White'}\n",
      "{'_id': 8, 'name': 'Running Shoes', 'category': 'Footwear', 'price': 89.99, 'stock': 25, 'rating': 4.7, 'color': 'Gray'}\n",
      "{'_id': 7, 'name': 'Tablet', 'category': 'Electronics', 'price': 299.99, 'stock': 15, 'rating': 4.4, 'color': 'Black'}\n",
      "{'_id': 1, 'name': 'Smartphone', 'category': 'Electronics', 'price': 499.99, 'stock': 50, 'rating': 4.5, 'color': 'Black'}\n",
      "{'_id': 2, 'name': 'Laptop', 'category': 'Electronics', 'price': 999.99, 'stock': 20, 'rating': 4.8, 'color': 'Silver'}\n"
     ]
    }
   ],
   "source": [
    "for i in sorted_result:\n",
    "    print(i)"
   ]
  },
  {
   "cell_type": "code",
   "execution_count": null,
   "metadata": {},
   "outputs": [
    {
     "name": "stdout",
     "output_type": "stream",
     "text": [
      "{'_id': 1, 'name': 'Smartphone', 'category': 'Electronics', 'price': 499.99, 'stock': 50, 'rating': 4.5, 'color': 'Black'}\n",
      "{'_id': 2, 'name': 'Laptop', 'category': 'Electronics', 'price': 999.99, 'stock': 20, 'rating': 4.8, 'color': 'Silver'}\n",
      "{'_id': 4, 'name': 'Headphones', 'category': 'Electronics', 'price': 79.99, 'stock': 30, 'rating': 4.6, 'color': 'White'}\n",
      "{'_id': 7, 'name': 'Tablet', 'category': 'Electronics', 'price': 299.99, 'stock': 15, 'rating': 4.4, 'color': 'Black'}\n",
      "{'_id': 10, 'name': 'Wireless Mouse', 'category': 'Electronics', 'price': 29.99, 'stock': 50, 'rating': 4.5, 'color': 'Black'}\n"
     ]
    }
   ],
   "source": [
    "# Equality: To find documents where a field matches a specific value.\n",
    "# printing product that has category of Electronics\n",
    "my_query = {'category': 'Electronics'}\n",
    "\n",
    "equality_result = collection.find(my_query)\n",
    "for i in equality_result:\n",
    "    print(i)"
   ]
  },
  {
   "cell_type": "code",
   "execution_count": null,
   "metadata": {},
   "outputs": [
    {
     "name": "stdout",
     "output_type": "stream",
     "text": [
      "{'_id': 2, 'name': 'Laptop', 'category': 'Electronics', 'price': 999.99, 'stock': 20, 'rating': 4.8, 'color': 'Silver'}\n",
      "{'_id': 3, 'name': 'T-shirt', 'category': 'Clothing', 'price': 19.99, 'stock': 100, 'rating': 4.2, 'color': 'Red'}\n",
      "{'_id': 4, 'name': 'Headphones', 'category': 'Electronics', 'price': 79.99, 'stock': 30, 'rating': 4.6, 'color': 'White'}\n",
      "{'_id': 5, 'name': 'Sneakers', 'category': 'Footwear', 'price': 69.99, 'stock': 40, 'rating': 4.3, 'color': 'Blue'}\n",
      "{'_id': 6, 'name': 'Dress Shirt', 'category': 'Clothing', 'price': 39.99, 'stock': 60, 'rating': 4.1, 'color': 'White'}\n",
      "{'_id': 8, 'name': 'Running Shoes', 'category': 'Footwear', 'price': 89.99, 'stock': 25, 'rating': 4.7, 'color': 'Gray'}\n",
      "{'_id': 9, 'name': 'Jeans', 'category': 'Clothing', 'price': 49.99, 'stock': 70, 'rating': 4.0, 'color': 'Blue'}\n"
     ]
    }
   ],
   "source": [
    "# Inequality: To find documents where a field is not equal to a specific value.\n",
    "# printing products whos color not equal to black \n",
    "my_query = {'color':{\"$ne\": 'Black'}}\n",
    "inuality_result = collection.find(my_query)\n",
    "for i in inuality_result:\n",
    "    print(i)"
   ]
  },
  {
   "cell_type": "code",
   "execution_count": null,
   "metadata": {},
   "outputs": [
    {
     "name": "stdout",
     "output_type": "stream",
     "text": [
      "{'_id': 1, 'name': 'Smartphone', 'category': 'Electronics', 'price': 499.99, 'stock': 50, 'rating': 4.5, 'color': 'Black'}\n",
      "{'_id': 2, 'name': 'Laptop', 'category': 'Electronics', 'price': 999.99, 'stock': 20, 'rating': 4.8, 'color': 'Silver'}\n",
      "{'_id': 4, 'name': 'Headphones', 'category': 'Electronics', 'price': 79.99, 'stock': 30, 'rating': 4.6, 'color': 'White'}\n",
      "{'_id': 5, 'name': 'Sneakers', 'category': 'Footwear', 'price': 69.99, 'stock': 40, 'rating': 4.3, 'color': 'Blue'}\n",
      "{'_id': 7, 'name': 'Tablet', 'category': 'Electronics', 'price': 299.99, 'stock': 15, 'rating': 4.4, 'color': 'Black'}\n",
      "{'_id': 8, 'name': 'Running Shoes', 'category': 'Footwear', 'price': 89.99, 'stock': 25, 'rating': 4.7, 'color': 'Gray'}\n",
      "{'_id': 9, 'name': 'Jeans', 'category': 'Clothing', 'price': 49.99, 'stock': 70, 'rating': 4.0, 'color': 'Blue'}\n"
     ]
    }
   ],
   "source": [
    "# Greater Than / Less Than: To find documents where a field is greater than or less than a specific value. \n",
    "\n",
    "my_query = {'price': {\"$gt\": 39.99}}  \n",
    "# filter_query = {\"points\": {\"$lt\": 100}}\n",
    "filter_query = collection.find(my_query) \n",
    "for i in filter_query:\n",
    "    print(i)"
   ]
  },
  {
   "cell_type": "code",
   "execution_count": null,
   "metadata": {},
   "outputs": [
    {
     "name": "stdout",
     "output_type": "stream",
     "text": [
      "{'_id': 3, 'name': 'T-shirt', 'category': 'Clothing', 'price': 19.99, 'stock': 100, 'rating': 4.2, 'color': 'Red'}\n",
      "{'_id': 10, 'name': 'Wireless Mouse', 'category': 'Electronics', 'price': 29.99, 'stock': 50, 'rating': 4.5, 'color': 'Black'}\n"
     ]
    }
   ],
   "source": [
    "# do for less than \n",
    "my_query = {'price': {\"$lt\": 39.99}}  \n",
    "filter_query = collection.find(my_query) \n",
    "for i in filter_query:\n",
    "    print(i)\n",
    "\n"
   ]
  },
  {
   "cell_type": "code",
   "execution_count": null,
   "metadata": {},
   "outputs": [
    {
     "name": "stdout",
     "output_type": "stream",
     "text": [
      "{'_id': 1, 'name': 'Smartphone', 'category': 'Electronics', 'price': 499.99, 'stock': 50, 'rating': 4.5, 'color': 'Black'}\n",
      "{'_id': 2, 'name': 'Laptop', 'category': 'Electronics', 'price': 999.99, 'stock': 20, 'rating': 4.8, 'color': 'Silver'}\n",
      "{'_id': 4, 'name': 'Headphones', 'category': 'Electronics', 'price': 79.99, 'stock': 30, 'rating': 4.6, 'color': 'White'}\n",
      "{'_id': 5, 'name': 'Sneakers', 'category': 'Footwear', 'price': 69.99, 'stock': 40, 'rating': 4.3, 'color': 'Blue'}\n",
      "{'_id': 6, 'name': 'Dress Shirt', 'category': 'Clothing', 'price': 39.99, 'stock': 60, 'rating': 4.1, 'color': 'White'}\n",
      "{'_id': 7, 'name': 'Tablet', 'category': 'Electronics', 'price': 299.99, 'stock': 15, 'rating': 4.4, 'color': 'Black'}\n",
      "{'_id': 8, 'name': 'Running Shoes', 'category': 'Footwear', 'price': 89.99, 'stock': 25, 'rating': 4.7, 'color': 'Gray'}\n",
      "{'_id': 9, 'name': 'Jeans', 'category': 'Clothing', 'price': 49.99, 'stock': 70, 'rating': 4.0, 'color': 'Blue'}\n"
     ]
    }
   ],
   "source": [
    "# Greater Than or Equal To / Less Than or Equal To: Similar to the above, but including equality. \n",
    "\n",
    "my_query = {'price': {\"$gte\": 39.99}}  \n",
    "filter_query = collection.find(my_query) \n",
    "for i in filter_query:\n",
    "    print(i)"
   ]
  },
  {
   "cell_type": "code",
   "execution_count": null,
   "metadata": {},
   "outputs": [
    {
     "name": "stdout",
     "output_type": "stream",
     "text": [
      "{'_id': 3, 'name': 'T-shirt', 'category': 'Clothing', 'price': 19.99, 'stock': 100, 'rating': 4.2, 'color': 'Red'}\n",
      "{'_id': 6, 'name': 'Dress Shirt', 'category': 'Clothing', 'price': 39.99, 'stock': 60, 'rating': 4.1, 'color': 'White'}\n",
      "{'_id': 10, 'name': 'Wireless Mouse', 'category': 'Electronics', 'price': 29.99, 'stock': 50, 'rating': 4.5, 'color': 'Black'}\n"
     ]
    }
   ],
   "source": [
    "my_query = {'price': {\"$lte\": 39.99}}  \n",
    "filter_query = collection.find(my_query) \n",
    "for i in filter_query:\n",
    "    print(i)"
   ]
  },
  {
   "cell_type": "code",
   "execution_count": null,
   "metadata": {},
   "outputs": [
    {
     "name": "stdout",
     "output_type": "stream",
     "text": [
      "{'_id': 3, 'name': 'T-shirt', 'category': 'Clothing', 'price': 19.99, 'stock': 100, 'rating': 4.2, 'color': 'Red'}\n",
      "{'_id': 6, 'name': 'Dress Shirt', 'category': 'Clothing', 'price': 39.99, 'stock': 60, 'rating': 4.1, 'color': 'White'}\n"
     ]
    }
   ],
   "source": [
    "# Logical AND: To combine multiple conditions using logical AND. \n",
    "\n",
    "my_query = {'price': {\"$lte\": 39.99},'category': 'Clothing'}  \n",
    "filter_query = collection.find(my_query) \n",
    "for i in filter_query:\n",
    "    print(i)"
   ]
  },
  {
   "cell_type": "code",
   "execution_count": null,
   "metadata": {},
   "outputs": [
    {
     "name": "stdout",
     "output_type": "stream",
     "text": [
      "{'_id': 1, 'name': 'Smartphone', 'category': 'Electronics', 'price': 499.99, 'stock': 50, 'rating': 4.5, 'color': 'Black'}\n",
      "{'_id': 4, 'name': 'Headphones', 'category': 'Electronics', 'price': 79.99, 'stock': 30, 'rating': 4.6, 'color': 'White'}\n",
      "{'_id': 6, 'name': 'Dress Shirt', 'category': 'Clothing', 'price': 39.99, 'stock': 60, 'rating': 4.1, 'color': 'White'}\n",
      "{'_id': 7, 'name': 'Tablet', 'category': 'Electronics', 'price': 299.99, 'stock': 15, 'rating': 4.4, 'color': 'Black'}\n",
      "{'_id': 10, 'name': 'Wireless Mouse', 'category': 'Electronics', 'price': 29.99, 'stock': 50, 'rating': 4.5, 'color': 'Black'}\n"
     ]
    }
   ],
   "source": [
    "# Logical OR: To combine multiple conditions using logical OR. \n",
    "my_query = {\"$or\":[{'color': 'White'},{'color': 'Black'}]}\n",
    "filter_query = collection.find(my_query) \n",
    "for i in filter_query:\n",
    "    print(i)"
   ]
  },
  {
   "cell_type": "code",
   "execution_count": null,
   "metadata": {},
   "outputs": [],
   "source": [
    "# IN: To find documents where a field's value matches any value in a specified list.\n",
    "# python\n",
    "# Copy code\n",
    "# filter_query = {\"status\": {\"$in\": [\"active\", \"pending\"]}}  # Status is \"active\" or \"pending\"\n",
    "# NOT IN: To find documents where a field's value does not match any value in a specified list.\n",
    "# python\n",
    "# Copy code\n",
    "# filter_query = {\"color\": {\"$nin\": [\"red\", \"blue\"]}}  # Color is not \"red\" or \"blue\"\n",
    "# Regular Expressions: To perform pattern matching using regular expressions.\n",
    "# python\n",
    "# Copy code\n",
    "# filter_query = {\"name\": {\"$regex\": \"^A\"}}  # Name starts with \"A\"\n",
    "# Exists: To find documents where a field exists (not null or absent).\n",
    "# python\n",
    "# Copy code\n",
    "# filter_query = {\"email\": {\"$exists\": True}} "
   ]
  },
  {
   "cell_type": "code",
   "execution_count": 46,
   "metadata": {},
   "outputs": [],
   "source": [
    "# indexing To optimize the performance of this query, you can create an index on the price field\n",
    "\n",
    "indexed = collection.create_index([(\"price\", 1)])\n",
    "\n",
    "\n"
   ]
  },
  {
   "cell_type": "code",
   "execution_count": 47,
   "metadata": {},
   "outputs": [
    {
     "name": "stdout",
     "output_type": "stream",
     "text": [
      "p\n",
      "r\n",
      "i\n",
      "c\n",
      "e\n",
      "_\n",
      "1\n"
     ]
    }
   ],
   "source": [
    "for i in indexed:\n",
    "    print(i)"
   ]
  },
  {
   "cell_type": "code",
   "execution_count": 49,
   "metadata": {},
   "outputs": [
    {
     "data": {
      "text/plain": [
       "{'_id_': {'v': 2, 'key': [('_id', 1)]},\n",
       " 'price_1': {'v': 2, 'key': [('price', 1)]}}"
      ]
     },
     "execution_count": 49,
     "metadata": {},
     "output_type": "execute_result"
    }
   ],
   "source": [
    "collection.index_information()\n"
   ]
  },
  {
   "cell_type": "code",
   "execution_count": null,
   "metadata": {},
   "outputs": [],
   "source": []
  }
 ],
 "metadata": {
  "kernelspec": {
   "display_name": "Python 3",
   "language": "python",
   "name": "python3"
  },
  "language_info": {
   "codemirror_mode": {
    "name": "ipython",
    "version": 3
   },
   "file_extension": ".py",
   "mimetype": "text/x-python",
   "name": "python",
   "nbconvert_exporter": "python",
   "pygments_lexer": "ipython3",
   "version": "3.10.0"
  },
  "orig_nbformat": 4
 },
 "nbformat": 4,
 "nbformat_minor": 2
}
